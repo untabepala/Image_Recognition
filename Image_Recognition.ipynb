{
  "nbformat": 4,
  "nbformat_minor": 0,
  "metadata": {
    "colab": {
      "provenance": [],
      "gpuType": "T4"
    },
    "kernelspec": {
      "name": "python3",
      "display_name": "Python 3"
    },
    "language_info": {
      "name": "python"
    },
    "accelerator": "GPU"
  },
  "cells": [
    {
      "cell_type": "code",
      "execution_count": 1,
      "metadata": {
        "id": "98ZCE_Pew4IM"
      },
      "outputs": [],
      "source": [
        "!pip install numpy -q\n",
        "!pip install pandas -q\n",
        "!pip install matplotlib -q\n",
        "!pip install tensorflow -q\n",
        "\n",
        "!pip install opendatasets -q"
      ]
    },
    {
      "cell_type": "code",
      "source": [
        "import numpy as np\n",
        "import tensorflow as tf\n",
        "import matplotlib.pyplot as plt\n",
        "import time\n",
        "\n",
        "import opendatasets as od"
      ],
      "metadata": {
        "id": "nhyBxuxEx59K"
      },
      "execution_count": 2,
      "outputs": []
    },
    {
      "cell_type": "code",
      "source": [
        "od.download(\"https://www.kaggle.com/datasets/dineshpiyasamara/cats-and-dogs-for-classification\")"
      ],
      "metadata": {
        "colab": {
          "base_uri": "https://localhost:8080/"
        },
        "id": "uXA7K95kyZO6",
        "outputId": "e1f837d8-c3df-4611-d8ed-09076cb78933"
      },
      "execution_count": 3,
      "outputs": [
        {
          "output_type": "stream",
          "name": "stdout",
          "text": [
            "Please provide your Kaggle credentials to download this dataset. Learn more: http://bit.ly/kaggle-creds\n",
            "Your Kaggle username: nayanitharushika\n",
            "Your Kaggle Key: ··········\n",
            "Downloading cats-and-dogs-for-classification.zip to ./cats-and-dogs-for-classification\n"
          ]
        },
        {
          "output_type": "stream",
          "name": "stderr",
          "text": [
            "100%|██████████| 217M/217M [00:11<00:00, 20.5MB/s]\n"
          ]
        },
        {
          "output_type": "stream",
          "name": "stdout",
          "text": [
            "\n"
          ]
        }
      ]
    },
    {
      "cell_type": "code",
      "source": [
        "BATCH_SIZE=32\n",
        "IMAGE_SIZE=(128,128)"
      ],
      "metadata": {
        "id": "85lFeeKRyvZ6"
      },
      "execution_count": 4,
      "outputs": []
    },
    {
      "cell_type": "code",
      "source": [
        "train_data_dir=\"/content/cats-and-dogs-for-classification/cats_dogs/train\"\n",
        "test_data_dir=\"/content/cats-and-dogs-for-classification/cats_dogs/test\""
      ],
      "metadata": {
        "id": "Lc1K9iH2zv2x"
      },
      "execution_count": 5,
      "outputs": []
    },
    {
      "cell_type": "code",
      "source": [
        "train_data=tf.keras.utils.image_dataset_from_directory(train_data_dir,\n",
        "                                                       batch_size=BATCH_SIZE,\n",
        "                                                       image_size=IMAGE_SIZE,\n",
        "                                                       subset='training',\n",
        "                                                       validation_split=0.1,\n",
        "                                                       seed=42)\n",
        "train_data=tf.keras.utils.image_dataset_from_directory(train_data_dir,\n",
        "                                                       batch_size=BATCH_SIZE,\n",
        "                                                       image_size=IMAGE_SIZE,\n",
        "                                                       subset='validation',\n",
        "                                                       validation_split=0.1,\n",
        "                                                       seed=42)\n",
        "test_data=tf.keras.utils.image_dataset_from_directory(test_data_dir,\n",
        "                                                       batch_size=BATCH_SIZE,\n",
        "                                                       image_size=IMAGE_SIZE)\n"
      ],
      "metadata": {
        "colab": {
          "base_uri": "https://localhost:8080/"
        },
        "id": "JB8NVJM30Dxj",
        "outputId": "4b8bbe5e-25fe-464b-821c-2c6d5203b2a0"
      },
      "execution_count": 6,
      "outputs": [
        {
          "output_type": "stream",
          "name": "stdout",
          "text": [
            "Found 8000 files belonging to 2 classes.\n",
            "Using 7200 files for training.\n",
            "Found 8000 files belonging to 2 classes.\n",
            "Using 800 files for validation.\n",
            "Found 2000 files belonging to 2 classes.\n"
          ]
        }
      ]
    },
    {
      "cell_type": "code",
      "source": [],
      "metadata": {
        "id": "rU3_izzJ2KlT"
      },
      "execution_count": null,
      "outputs": []
    }
  ]
}